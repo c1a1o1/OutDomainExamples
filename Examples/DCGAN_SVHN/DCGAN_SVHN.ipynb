{
 "cells": [
  {
   "cell_type": "code",
   "execution_count": null,
   "metadata": {},
   "outputs": [],
   "source": [
    "import tensorflow as tf\n",
    "import tensorflow_hub as hub\n",
    "from ODE.latentSearchBatch import NormalLatentSearch\n",
    "from glob import glob\n",
    "import os"
   ]
  },
  {
   "cell_type": "markdown",
   "metadata": {},
   "source": [
    "# Specify generator:\n",
    "The function **generator_function** takes in input a set of latent vectors $z$ with shape $[n, m]$ and outputs a set of images with shape $[n, s, s, 3]$."
   ]
  },
  {
   "cell_type": "code",
   "execution_count": null,
   "metadata": {},
   "outputs": [],
   "source": [
    "# Path of the tensorflow_hub module (i.e., the pre-trained generator)\n",
    "model_path = 'MODEL_DIR/SVHN_DCGAN_normal_latent_512/'\n",
    "\n",
    "print(\"{} generator loading...\".format(model_path))\n",
    "generator_module = hub.Module(model_path)\n",
    "\n",
    "# Wrap here your generator:\n",
    "def generator_function(z):\n",
    "    return generator_module(z, signature='G')"
   ]
  },
  {
   "cell_type": "markdown",
   "metadata": {},
   "source": [
    "# Setup "
   ]
  },
  {
   "cell_type": "code",
   "execution_count": null,
   "metadata": {},
   "outputs": [],
   "source": [
    "# list of target instances\n",
    "target_paths = glob('TARGET_IMAGES/**/*.png')\n",
    "# dimension of the generator latent space\n",
    "zsize = 512\n",
    "# shape of the generator output\n",
    "xshape = (32, 32, 3)\n",
    "# used distance function over the data space\n",
    "distance_function = NormalLatentSearch.MSE\n",
    "\n",
    "# optional\n",
    "optimizer = tf.train.AdamOptimizer\n",
    "learning_rate = 0.01\n",
    "# weights for each moment penalty term\n",
    "moments_penalty = 0.5, 0.5, 0.5, 0.1, 0.5, 0.5\n",
    "\n",
    "\n",
    "ls = NormalLatentSearch(\n",
    "        xtarget_paths=target_paths,\n",
    "        zsize=zsize,\n",
    "        xshape=xshape,\n",
    "        optimizer=optimizer,\n",
    "        lr=learning_rate,\n",
    "        distance_function=distance_function,\n",
    "        moments_penalty=moments_penalty\n",
    ")"
   ]
  },
  {
   "cell_type": "markdown",
   "metadata": {},
   "source": [
    "# Run latent search"
   ]
  },
  {
   "cell_type": "code",
   "execution_count": null,
   "metadata": {},
   "outputs": [],
   "source": [
    "# number of training iterations\n",
    "iterations_number = 30000\n",
    "# number of tensorboard logging operation during the training (set o for no logging)\n",
    "logs_num = 100\n",
    "# tensorboard logging base directory\n",
    "log_path = './LOGS'\n",
    "\n",
    "xhat_group_val, xtarget_group_val = ls(generator_function, iterations_number, logs_num, log_path)"
   ]
  },
  {
   "cell_type": "code",
   "execution_count": null,
   "metadata": {},
   "outputs": [],
   "source": []
  }
 ],
 "metadata": {
  "kernelspec": {
   "display_name": "Python 3",
   "language": "python",
   "name": "python3"
  },
  "language_info": {
   "codemirror_mode": {
    "name": "ipython",
    "version": 3
   },
   "file_extension": ".py",
   "mimetype": "text/x-python",
   "name": "python",
   "nbconvert_exporter": "python",
   "pygments_lexer": "ipython3",
   "version": "3.6.3"
  }
 },
 "nbformat": 4,
 "nbformat_minor": 2
}
